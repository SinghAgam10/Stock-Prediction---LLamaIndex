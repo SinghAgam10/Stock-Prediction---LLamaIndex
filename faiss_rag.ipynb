{
 "cells": [
  {
   "cell_type": "code",
   "execution_count": 1,
   "id": "bb1814a6-9d40-404f-940f-eccc6b2f7a10",
   "metadata": {},
   "outputs": [
    {
     "data": {
      "text/plain": [
       "<firebase_admin.App at 0x108a61d30>"
      ]
     },
     "execution_count": 1,
     "metadata": {},
     "output_type": "execute_result"
    }
   ],
   "source": [
    "import firebase_admin\n",
    "from firebase_admin import credentials, firestore\n",
    "\n",
    "# Use a service account\n",
    "cred = credentials.Certificate('./key.json')\n",
    "firebase_admin.initialize_app(cred)"
   ]
  },
  {
   "cell_type": "code",
   "execution_count": 3,
   "id": "fd9aff1b-3af1-4d63-b100-c91753ddc508",
   "metadata": {},
   "outputs": [
    {
     "data": {
      "text/plain": [
       "CompletedProcess(args='mkdir data', returncode=0)"
      ]
     },
     "execution_count": 3,
     "metadata": {},
     "output_type": "execute_result"
    }
   ],
   "source": [
    "import subprocess\n",
    "\n",
    "command = \"mkdir data\"\n",
    "subprocess.run(command, shell=True, executable=\"/bin/bash\")"
   ]
  },
  {
   "cell_type": "code",
   "execution_count": 4,
   "id": "400f7575-ec8f-4c72-80f8-92fdeefe5262",
   "metadata": {},
   "outputs": [],
   "source": [
    "import random\n",
    "def get_all_documents(date=None):\n",
    "    db = firestore.client()\n",
    "    ref = db.collection('toi_news_2024-10-22')\n",
    "    docs = ref.get()\n",
    "    for doc in docs:\n",
    "        if random.uniform(0,1) < 0.9:\n",
    "            continue\n",
    "        with open(f\"./data/{doc.id}.txt\", 'w') as file:\n",
    "            file.write(doc.to_dict()['content'])\n",
    "            \n",
    "get_all_documents()"
   ]
  },
  {
   "cell_type": "code",
   "execution_count": 5,
   "id": "f1cd56e5-2878-4e4e-af49-16fa04d45a93",
   "metadata": {},
   "outputs": [],
   "source": [
    "from langchain_community.document_loaders import TextLoader, DirectoryLoader\n",
    "from langchain.text_splitter import RecursiveCharacterTextSplitter"
   ]
  },
  {
   "cell_type": "code",
   "execution_count": 6,
   "id": "4e56834e-a66a-44c3-9593-1e29efa3757d",
   "metadata": {},
   "outputs": [],
   "source": [
    "loader = DirectoryLoader('./data/', glob=\"*.txt\", loader_cls=TextLoader)\n",
    "news_articles = loader.load()\n",
    "\n",
    "text_splitter = RecursiveCharacterTextSplitter(\n",
    "    chunk_size = 200,\n",
    "    chunk_overlap = 25\n",
    ")\n",
    "\n",
    "#Create a split of the document using the text splitter\n",
    "news_articles_split = text_splitter.split_documents(news_articles)"
   ]
  },
  {
   "cell_type": "code",
   "execution_count": 9,
   "id": "4d5b46bc-eecc-4b0d-9b5f-5b4e2c6e1337",
   "metadata": {},
   "outputs": [
    {
     "name": "stdout",
     "output_type": "stream",
     "text": [
      "Total news documents before split: 48\n",
      "Total news documents after split: 648\n",
      "Type of document: <class 'langchain_core.documents.base.Document'>\n"
     ]
    }
   ],
   "source": [
    "print(f\"Total news documents before split: {len(news_articles)}\")\n",
    "print(f\"Total news documents after split: {len(news_articles_split)}\")\n",
    "print(f\"Type of document: {type(news_articles_split[0])}\")"
   ]
  },
  {
   "cell_type": "code",
   "execution_count": 11,
   "id": "10dfa39f-f412-41ad-a0d3-bfa4f568ea42",
   "metadata": {},
   "outputs": [],
   "source": [
    "from langchain_ollama import OllamaEmbeddings"
   ]
  },
  {
   "cell_type": "code",
   "execution_count": 16,
   "id": "2f8a3e71-cf14-4240-94d5-88d23b9c1d2f",
   "metadata": {},
   "outputs": [],
   "source": [
    "embedding_model = OllamaEmbeddings(model=\"mistral\")"
   ]
  },
  {
   "cell_type": "code",
   "execution_count": 18,
   "id": "3f97f3a6-56fc-4d0a-9670-c22a79f1fa17",
   "metadata": {},
   "outputs": [],
   "source": [
    "index_len = len(embedding_model.embed_query(\"hello world\"))"
   ]
  },
  {
   "cell_type": "code",
   "execution_count": 19,
   "id": "ca45bd6c-9784-4da8-af4c-9c9eb8d1ffa0",
   "metadata": {},
   "outputs": [],
   "source": [
    "import faiss\n",
    "from langchain_community.docstore.in_memory import InMemoryDocstore\n",
    "from langchain_community.vectorstores import FAISS"
   ]
  },
  {
   "cell_type": "code",
   "execution_count": 20,
   "id": "0dad8262-365b-4dcf-bcbb-ccd7996c8c2e",
   "metadata": {},
   "outputs": [],
   "source": [
    "index = faiss.IndexFlatL2(index_len)\n",
    "\n",
    "vector_store = FAISS(\n",
    "    embedding_function=embedding_model,\n",
    "    index=index,\n",
    "    docstore=InMemoryDocstore(),\n",
    "    index_to_docstore_id={},\n",
    ")"
   ]
  },
  {
   "cell_type": "code",
   "execution_count": 23,
   "id": "b2b000f7-a89a-464e-aaa8-4e8e1e8e115a",
   "metadata": {},
   "outputs": [],
   "source": [
    "from uuid import uuid4\n",
    "from tqdm.auto import tqdm"
   ]
  },
  {
   "cell_type": "code",
   "execution_count": null,
   "id": "083c2e62-94d3-4fa7-adeb-cdf2630c5d6e",
   "metadata": {},
   "outputs": [],
   "source": [
    "for doc in tqdm(news_articles_split):\n",
    "    uuid = str(uuid4())\n",
    "    vector_store.add_documents(documents=[doc], ids=[uuid])"
   ]
  },
  {
   "cell_type": "code",
   "execution_count": null,
   "id": "d0b6f77b-1be7-4736-9d28-d1bbd0eed4ee",
   "metadata": {},
   "outputs": [],
   "source": [
    "vector_store.save_local(\"faiss_index\")"
   ]
  },
  {
   "cell_type": "code",
   "execution_count": 77,
   "id": "25d2c4c8-15b7-485e-ad5d-12a0724f8a5b",
   "metadata": {},
   "outputs": [],
   "source": [
    "# load the vector_store\n",
    "new_vector_store = FAISS.load_local(\n",
    "    \"../../../Downloads/news_2024-10-22/\", embedding_model, allow_dangerous_deserialization=True\n",
    ")\n",
    "\n",
    "docs = new_vector_store.similarity_search(\"What is happening in the Indian business market?\", k=10)"
   ]
  },
  {
   "cell_type": "code",
   "execution_count": 87,
   "id": "8541e029-4663-49a5-9161-5f88dd2e4c7e",
   "metadata": {},
   "outputs": [],
   "source": [
    "from langchain.prompts import PromptTemplate\n",
    "from langchain_core.output_parsers import StrOutputParser\n",
    "\n",
    "prompt = PromptTemplate(\n",
    "    template=\"\"\"Act as an experienced stock trader with a strong understanding of the \\\n",
    "Indian stock market. You know how to use news to determine whether to buy or sell a stock. \n",
    "I will provide you with all the relevant news for a specific day from India. Based on the news provided, \\\n",
    "I need you to perform the following tasks: \n",
    "\n",
    "1. Identify the best potential stock to buy (BEST_STOCK) – it should be a company that is present in the Indian stock market and performing \\\n",
    "very well based on the news I provided below. Provide a brief reason for selecting the stock, explaining why it's a good investment opportunity. \n",
    "\n",
    "2. Identify the best potential stock to sell (WORST_STOCK) – it should be a company that is present in the Indian stock market and expected to face challenges \\\n",
    "or underperform due to the news. Provide a brief reason for selecting the stock, explaining why selling or avoiding this \\\n",
    "stock would be wise.\n",
    "\n",
    "The output should be a json with BEST_STOCK and WORST_STOCK key.\n",
    "\n",
    "News articles: {documents}\n",
    "\"\"\",\n",
    "    input_variables=[\"documents\"],\n",
    ")"
   ]
  },
  {
   "cell_type": "code",
   "execution_count": 88,
   "id": "1e7f3b18-50d4-4b09-85d7-1a89bed29323",
   "metadata": {},
   "outputs": [],
   "source": [
    "from langchain_ollama import OllamaLLM\n",
    "from langchain.chains import LLMChain"
   ]
  },
  {
   "cell_type": "code",
   "execution_count": 89,
   "id": "0bd20ff6-705b-46d7-8b7d-13f498b84bd7",
   "metadata": {},
   "outputs": [],
   "source": [
    "ollama = OllamaLLM(model=\"mistral\")\n",
    "llm_chain = LLMChain(llm=ollama, prompt=prompt)"
   ]
  },
  {
   "cell_type": "code",
   "execution_count": 90,
   "id": "fec99f2c-8624-42fe-8583-49b5cd88da9e",
   "metadata": {},
   "outputs": [],
   "source": [
    "response = llm_chain.run({\"documents\": docs})"
   ]
  },
  {
   "cell_type": "code",
   "execution_count": 91,
   "id": "b256b6f9-2220-48e1-bece-9dc1e8d633dd",
   "metadata": {},
   "outputs": [
    {
     "name": "stdout",
     "output_type": "stream",
     "text": [
      " {\n",
      "      \"BEST_STOCK\": \"Reliance Industries Limited (RIL)\",\n",
      "      \"REASON\": \"The news about RBI's commitment to active and adaptable liquidity management suggests a positive outlook for banking sector stocks, especially those with strong financial status like RIL. The company has been performing well financially, and its diversified business portfolio including retail, petrochemicals, and telecommunications makes it less vulnerable to market fluctuations. Additionally, the upcoming textile exhibition may provide further growth opportunities for RIL's textiles segment.\",\n",
      "\n",
      "      \"WORST_STOCK\": \"Predatory Pricing Industry Players\",\n",
      "      \"REASON\": \"The news about predatory pricing casting a shadow over the industry indicates potential legal and financial risks for companies involved in such practices. Engaging in such behavior could lead to fines or investigations, which would negatively impact the stock performance of these companies. Avoiding stocks from this sector might be a wise choice until the situation becomes clearer.\"\n",
      "   }\n"
     ]
    }
   ],
   "source": [
    "print(response)"
   ]
  },
  {
   "cell_type": "code",
   "execution_count": 92,
   "id": "54cf48ea-02c6-4e6d-847b-180921742ed8",
   "metadata": {},
   "outputs": [],
   "source": [
    "import json"
   ]
  },
  {
   "cell_type": "code",
   "execution_count": 93,
   "id": "521ccf81-83d7-4787-b8bc-20556799dc18",
   "metadata": {},
   "outputs": [],
   "source": [
    "json_response = json.loads(response)"
   ]
  },
  {
   "cell_type": "code",
   "execution_count": 94,
   "id": "72fa782a-bac9-4087-bfd2-be49fd968614",
   "metadata": {},
   "outputs": [
    {
     "data": {
      "text/plain": [
       "{'BEST_STOCK': 'Reliance Industries Limited (RIL)',\n",
       " 'REASON': 'The news about predatory pricing casting a shadow over the industry indicates potential legal and financial risks for companies involved in such practices. Engaging in such behavior could lead to fines or investigations, which would negatively impact the stock performance of these companies. Avoiding stocks from this sector might be a wise choice until the situation becomes clearer.',\n",
       " 'WORST_STOCK': 'Predatory Pricing Industry Players'}"
      ]
     },
     "execution_count": 94,
     "metadata": {},
     "output_type": "execute_result"
    }
   ],
   "source": [
    "json_response"
   ]
  },
  {
   "cell_type": "code",
   "execution_count": 95,
   "id": "6f682a5d-9219-404d-8479-ca3363420d4c",
   "metadata": {},
   "outputs": [
    {
     "data": {
      "text/plain": [
       "'Reliance Industries Limited (RIL)'"
      ]
     },
     "execution_count": 95,
     "metadata": {},
     "output_type": "execute_result"
    }
   ],
   "source": [
    "json_response['BEST_STOCK']"
   ]
  },
  {
   "cell_type": "code",
   "execution_count": 96,
   "id": "0568ae1e-16c5-49b1-a21c-583030049f05",
   "metadata": {},
   "outputs": [],
   "source": [
    "import pandas as pd"
   ]
  },
  {
   "cell_type": "code",
   "execution_count": 102,
   "id": "ed0b537a-2beb-406e-8c60-e76492d4f259",
   "metadata": {},
   "outputs": [],
   "source": [
    "data = pd.read_csv(\"./fetched-data/stock-sectors.csv\")"
   ]
  },
  {
   "cell_type": "code",
   "execution_count": 103,
   "id": "c16cdebd-f992-4ab8-8adf-26792f05b1f8",
   "metadata": {},
   "outputs": [
    {
     "data": {
      "text/html": [
       "<div>\n",
       "<style scoped>\n",
       "    .dataframe tbody tr th:only-of-type {\n",
       "        vertical-align: middle;\n",
       "    }\n",
       "\n",
       "    .dataframe tbody tr th {\n",
       "        vertical-align: top;\n",
       "    }\n",
       "\n",
       "    .dataframe thead th {\n",
       "        text-align: right;\n",
       "    }\n",
       "</style>\n",
       "<table border=\"1\" class=\"dataframe\">\n",
       "  <thead>\n",
       "    <tr style=\"text-align: right;\">\n",
       "      <th></th>\n",
       "      <th>sector</th>\n",
       "      <th>description</th>\n",
       "      <th>total_companies</th>\n",
       "      <th>link</th>\n",
       "    </tr>\n",
       "  </thead>\n",
       "  <tbody>\n",
       "    <tr>\n",
       "      <th>0</th>\n",
       "      <td>abrasives</td>\n",
       "      <td>The one that scraps away all inconsistencies</td>\n",
       "      <td>3</td>\n",
       "      <td>/abrasives</td>\n",
       "    </tr>\n",
       "    <tr>\n",
       "      <th>1</th>\n",
       "      <td>advertising_media</td>\n",
       "      <td>The one that creates and distributes media con...</td>\n",
       "      <td>11</td>\n",
       "      <td>/advertising-media</td>\n",
       "    </tr>\n",
       "    <tr>\n",
       "      <th>2</th>\n",
       "      <td>agriculture</td>\n",
       "      <td>The one that gives us vegetables and fruits to...</td>\n",
       "      <td>49</td>\n",
       "      <td>/agriculture</td>\n",
       "    </tr>\n",
       "    <tr>\n",
       "      <th>3</th>\n",
       "      <td>air_conditioners</td>\n",
       "      <td>The one thats keeps it cool with no noise</td>\n",
       "      <td>6</td>\n",
       "      <td>/air-conditioners</td>\n",
       "    </tr>\n",
       "    <tr>\n",
       "      <th>4</th>\n",
       "      <td>airlines</td>\n",
       "      <td>The one that takes us around the world in the ...</td>\n",
       "      <td>6</td>\n",
       "      <td>/airlines</td>\n",
       "    </tr>\n",
       "    <tr>\n",
       "      <th>...</th>\n",
       "      <td>...</td>\n",
       "      <td>...</td>\n",
       "      <td>...</td>\n",
       "      <td>...</td>\n",
       "    </tr>\n",
       "    <tr>\n",
       "      <th>129</th>\n",
       "      <td>travel_services</td>\n",
       "      <td>The one that takes you to your favourite holidays</td>\n",
       "      <td>17</td>\n",
       "      <td>/travel-services</td>\n",
       "    </tr>\n",
       "    <tr>\n",
       "      <th>130</th>\n",
       "      <td>tv_broadcasting_software_production</td>\n",
       "      <td>The one that brings you your favourite TV shows</td>\n",
       "      <td>32</td>\n",
       "      <td>/tv-broadcasting-software-production</td>\n",
       "    </tr>\n",
       "    <tr>\n",
       "      <th>131</th>\n",
       "      <td>tyres_allied</td>\n",
       "      <td>The one that makes vehicles move</td>\n",
       "      <td>12</td>\n",
       "      <td>/tyres-allied</td>\n",
       "    </tr>\n",
       "    <tr>\n",
       "      <th>132</th>\n",
       "      <td>watches_accessories</td>\n",
       "      <td>The one that makes your life more functional</td>\n",
       "      <td>2</td>\n",
       "      <td>/watches-accessories</td>\n",
       "    </tr>\n",
       "    <tr>\n",
       "      <th>133</th>\n",
       "      <td>wood_wood_products</td>\n",
       "      <td>The one that is used in making furniture majorly</td>\n",
       "      <td>15</td>\n",
       "      <td>/wood-wood-products</td>\n",
       "    </tr>\n",
       "  </tbody>\n",
       "</table>\n",
       "<p>134 rows × 4 columns</p>\n",
       "</div>"
      ],
      "text/plain": [
       "                                  sector  \\\n",
       "0                              abrasives   \n",
       "1                      advertising_media   \n",
       "2                            agriculture   \n",
       "3                       air_conditioners   \n",
       "4                               airlines   \n",
       "..                                   ...   \n",
       "129                      travel_services   \n",
       "130  tv_broadcasting_software_production   \n",
       "131                         tyres_allied   \n",
       "132                  watches_accessories   \n",
       "133                   wood_wood_products   \n",
       "\n",
       "                                           description  total_companies  \\\n",
       "0         The one that scraps away all inconsistencies                3   \n",
       "1    The one that creates and distributes media con...               11   \n",
       "2    The one that gives us vegetables and fruits to...               49   \n",
       "3            The one thats keeps it cool with no noise                6   \n",
       "4    The one that takes us around the world in the ...                6   \n",
       "..                                                 ...              ...   \n",
       "129  The one that takes you to your favourite holidays               17   \n",
       "130    The one that brings you your favourite TV shows               32   \n",
       "131                   The one that makes vehicles move               12   \n",
       "132       The one that makes your life more functional                2   \n",
       "133   The one that is used in making furniture majorly               15   \n",
       "\n",
       "                                     link  \n",
       "0                              /abrasives  \n",
       "1                      /advertising-media  \n",
       "2                            /agriculture  \n",
       "3                       /air-conditioners  \n",
       "4                               /airlines  \n",
       "..                                    ...  \n",
       "129                      /travel-services  \n",
       "130  /tv-broadcasting-software-production  \n",
       "131                         /tyres-allied  \n",
       "132                  /watches-accessories  \n",
       "133                   /wood-wood-products  \n",
       "\n",
       "[134 rows x 4 columns]"
      ]
     },
     "execution_count": 103,
     "metadata": {},
     "output_type": "execute_result"
    }
   ],
   "source": [
    "data"
   ]
  },
  {
   "cell_type": "code",
   "execution_count": 119,
   "id": "45756283-1361-4b99-958e-c006e4661963",
   "metadata": {},
   "outputs": [
    {
     "data": {
      "text/html": [
       "<div>\n",
       "<style scoped>\n",
       "    .dataframe tbody tr th:only-of-type {\n",
       "        vertical-align: middle;\n",
       "    }\n",
       "\n",
       "    .dataframe tbody tr th {\n",
       "        vertical-align: top;\n",
       "    }\n",
       "\n",
       "    .dataframe thead th {\n",
       "        text-align: right;\n",
       "    }\n",
       "</style>\n",
       "<table border=\"1\" class=\"dataframe\">\n",
       "  <thead>\n",
       "    <tr style=\"text-align: right;\">\n",
       "      <th></th>\n",
       "      <th>sector</th>\n",
       "      <th>description</th>\n",
       "      <th>total_companies</th>\n",
       "      <th>link</th>\n",
       "    </tr>\n",
       "  </thead>\n",
       "  <tbody>\n",
       "    <tr>\n",
       "      <th>128</th>\n",
       "      <td>transmission_towers_equipments</td>\n",
       "      <td>The one that aids the electricity power lines</td>\n",
       "      <td>2</td>\n",
       "      <td>/transmission-towers-equipments</td>\n",
       "    </tr>\n",
       "  </tbody>\n",
       "</table>\n",
       "</div>"
      ],
      "text/plain": [
       "                             sector  \\\n",
       "128  transmission_towers_equipments   \n",
       "\n",
       "                                       description  total_companies  \\\n",
       "128  The one that aids the electricity power lines                2   \n",
       "\n",
       "                                link  \n",
       "128  /transmission-towers-equipments  "
      ]
     },
     "execution_count": 119,
     "metadata": {},
     "output_type": "execute_result"
    }
   ],
   "source": [
    "data[data.sector == \"transmission_towers_equipments\"]"
   ]
  },
  {
   "cell_type": "code",
   "execution_count": 104,
   "id": "56c3df21-efa4-45b3-8b54-2b79734b35dd",
   "metadata": {},
   "outputs": [
    {
     "data": {
      "text/plain": [
       "4912"
      ]
     },
     "execution_count": 104,
     "metadata": {},
     "output_type": "execute_result"
    }
   ],
   "source": [
    "data.total_companies.sum()"
   ]
  },
  {
   "cell_type": "code",
   "execution_count": 120,
   "id": "4df9083f-d677-4e13-842f-13dd760a0a30",
   "metadata": {},
   "outputs": [],
   "source": [
    "stocks = pd.read_csv(\"./fetched-data/stock-names.csv\")"
   ]
  },
  {
   "cell_type": "code",
   "execution_count": 141,
   "id": "5287cf1c-a9c4-4562-88bd-f6ac94272650",
   "metadata": {},
   "outputs": [
    {
     "data": {
      "text/html": [
       "<div>\n",
       "<style scoped>\n",
       "    .dataframe tbody tr th:only-of-type {\n",
       "        vertical-align: middle;\n",
       "    }\n",
       "\n",
       "    .dataframe tbody tr th {\n",
       "        vertical-align: top;\n",
       "    }\n",
       "\n",
       "    .dataframe thead th {\n",
       "        text-align: right;\n",
       "    }\n",
       "</style>\n",
       "<table border=\"1\" class=\"dataframe\">\n",
       "  <thead>\n",
       "    <tr style=\"text-align: right;\">\n",
       "      <th></th>\n",
       "      <th>sector</th>\n",
       "      <th>ticker_symbol</th>\n",
       "      <th>company_name</th>\n",
       "      <th>market_cap</th>\n",
       "      <th>company_link</th>\n",
       "    </tr>\n",
       "  </thead>\n",
       "  <tbody>\n",
       "    <tr>\n",
       "      <th>0</th>\n",
       "      <td>abrasives</td>\n",
       "      <td>WENDT</td>\n",
       "      <td>Wendt India</td>\n",
       "      <td>3,029.00</td>\n",
       "      <td>/company/WENDT</td>\n",
       "    </tr>\n",
       "    <tr>\n",
       "      <th>1</th>\n",
       "      <td>abrasives</td>\n",
       "      <td>GRINDWELL</td>\n",
       "      <td>Grindwell Norton</td>\n",
       "      <td>23,492.57</td>\n",
       "      <td>/company/GRINDWELL</td>\n",
       "    </tr>\n",
       "    <tr>\n",
       "      <th>2</th>\n",
       "      <td>abrasives</td>\n",
       "      <td>CARBORUNIV</td>\n",
       "      <td>Carborundum Univer.</td>\n",
       "      <td>26,272.53</td>\n",
       "      <td>/company/CARBORUNIV</td>\n",
       "    </tr>\n",
       "    <tr>\n",
       "      <th>3</th>\n",
       "      <td>advertising_media</td>\n",
       "      <td>SCRIP-300010</td>\n",
       "      <td>Navoday Enterprises</td>\n",
       "      <td>7.21</td>\n",
       "      <td>/company/SCRIP-300010</td>\n",
       "    </tr>\n",
       "    <tr>\n",
       "      <th>4</th>\n",
       "      <td>advertising_media</td>\n",
       "      <td>SIGNPOST</td>\n",
       "      <td>Signpost India</td>\n",
       "      <td>1,229.35</td>\n",
       "      <td>/company/SIGNPOST</td>\n",
       "    </tr>\n",
       "    <tr>\n",
       "      <th>...</th>\n",
       "      <td>...</td>\n",
       "      <td>...</td>\n",
       "      <td>...</td>\n",
       "      <td>...</td>\n",
       "      <td>...</td>\n",
       "    </tr>\n",
       "    <tr>\n",
       "      <th>4913</th>\n",
       "      <td>wood_wood_products</td>\n",
       "      <td>SCRIP-304681</td>\n",
       "      <td>Alkosign</td>\n",
       "      <td>86.59</td>\n",
       "      <td>/company/SCRIP-304681</td>\n",
       "    </tr>\n",
       "    <tr>\n",
       "      <th>4914</th>\n",
       "      <td>wood_wood_products</td>\n",
       "      <td>SCRIP-116003</td>\n",
       "      <td>Duroply Industries</td>\n",
       "      <td>249.88</td>\n",
       "      <td>/company/SCRIP-116003</td>\n",
       "    </tr>\n",
       "    <tr>\n",
       "      <th>4915</th>\n",
       "      <td>wood_wood_products</td>\n",
       "      <td>SCRIP-126225</td>\n",
       "      <td>Bloom Dekor</td>\n",
       "      <td>10.41</td>\n",
       "      <td>/company/SCRIP-126225</td>\n",
       "    </tr>\n",
       "    <tr>\n",
       "      <th>4916</th>\n",
       "      <td>wood_wood_products</td>\n",
       "      <td>SCRIP-123888</td>\n",
       "      <td>VR Woodart</td>\n",
       "      <td>7.15</td>\n",
       "      <td>/company/SCRIP-123888</td>\n",
       "    </tr>\n",
       "    <tr>\n",
       "      <th>4917</th>\n",
       "      <td>wood_wood_products</td>\n",
       "      <td>SCRIP-116062</td>\n",
       "      <td>Natl.Plyw</td>\n",
       "      <td>21.07</td>\n",
       "      <td>/company/SCRIP-116062</td>\n",
       "    </tr>\n",
       "  </tbody>\n",
       "</table>\n",
       "<p>4918 rows × 5 columns</p>\n",
       "</div>"
      ],
      "text/plain": [
       "                  sector ticker_symbol         company_name market_cap  \\\n",
       "0              abrasives         WENDT          Wendt India   3,029.00   \n",
       "1              abrasives     GRINDWELL     Grindwell Norton  23,492.57   \n",
       "2              abrasives    CARBORUNIV  Carborundum Univer.  26,272.53   \n",
       "3      advertising_media  SCRIP-300010  Navoday Enterprises       7.21   \n",
       "4      advertising_media      SIGNPOST       Signpost India   1,229.35   \n",
       "...                  ...           ...                  ...        ...   \n",
       "4913  wood_wood_products  SCRIP-304681             Alkosign      86.59   \n",
       "4914  wood_wood_products  SCRIP-116003   Duroply Industries     249.88   \n",
       "4915  wood_wood_products  SCRIP-126225          Bloom Dekor      10.41   \n",
       "4916  wood_wood_products  SCRIP-123888           VR Woodart       7.15   \n",
       "4917  wood_wood_products  SCRIP-116062            Natl.Plyw      21.07   \n",
       "\n",
       "               company_link  \n",
       "0            /company/WENDT  \n",
       "1        /company/GRINDWELL  \n",
       "2       /company/CARBORUNIV  \n",
       "3     /company/SCRIP-300010  \n",
       "4         /company/SIGNPOST  \n",
       "...                     ...  \n",
       "4913  /company/SCRIP-304681  \n",
       "4914  /company/SCRIP-116003  \n",
       "4915  /company/SCRIP-126225  \n",
       "4916  /company/SCRIP-123888  \n",
       "4917  /company/SCRIP-116062  \n",
       "\n",
       "[4918 rows x 5 columns]"
      ]
     },
     "execution_count": 141,
     "metadata": {},
     "output_type": "execute_result"
    }
   ],
   "source": [
    "stocks"
   ]
  },
  {
   "cell_type": "code",
   "execution_count": 149,
   "id": "f263ad4c-9d5b-465b-aec7-45381e6d0772",
   "metadata": {},
   "outputs": [],
   "source": [
    "def convert_to_float(value):\n",
    "    # Remove commas and convert to float\n",
    "    return float(value.replace(',', ''))\n",
    "\n",
    "# Apply the function to the 'values' column\n",
    "stocks['market_cap'] = stocks['market_cap'].apply(convert_to_float)"
   ]
  },
  {
   "cell_type": "code",
   "execution_count": 151,
   "id": "7d907521-e2a6-4471-831a-259a84428c48",
   "metadata": {},
   "outputs": [
    {
     "data": {
      "text/plain": [
       "44617202.92"
      ]
     },
     "execution_count": 151,
     "metadata": {},
     "output_type": "execute_result"
    }
   ],
   "source": [
    "stocks.market_cap.sum()"
   ]
  },
  {
   "cell_type": "code",
   "execution_count": 136,
   "id": "e94fcdc5-f02f-4119-a2ad-0c7ebf2c82da",
   "metadata": {},
   "outputs": [],
   "source": [
    "keys = stocks.sector.value_counts().index\n",
    "values = stocks.sector.value_counts().values"
   ]
  },
  {
   "cell_type": "code",
   "execution_count": 140,
   "id": "52b43b65-ad08-4468-87ce-563dcf6bc161",
   "metadata": {},
   "outputs": [
    {
     "name": "stdout",
     "output_type": "stream",
     "text": [
      "Sector: chemicals\n",
      "Expected value: 177 --- Actual value: 178\n",
      "Sector: auto_ancillary\n",
      "Expected value: 97 --- Actual value: 98\n",
      "Sector: finance_stock_broking\n",
      "Expected value: 64 --- Actual value: 65\n",
      "Sector: sugar\n",
      "Expected value: 43 --- Actual value: 44\n",
      "Sector: miscellaneous\n",
      "Expected value: 29 --- Actual value: 31\n"
     ]
    }
   ],
   "source": [
    "for i, key in enumerate(keys):\n",
    "    if data[data.sector == key].total_companies.values[0] != values[i]:\n",
    "        print(f\"Sector: {key}\")\n",
    "        print(f\"Expected value: {data[data.sector == key].total_companies.values[0]} --- Actual value: {values[i]}\")"
   ]
  },
  {
   "cell_type": "code",
   "execution_count": null,
   "id": "0c58ebe9-85bb-4ce3-a8af-23bdbfdc2361",
   "metadata": {},
   "outputs": [],
   "source": []
  }
 ],
 "metadata": {
  "kernelspec": {
   "display_name": "Python 3 (ipykernel)",
   "language": "python",
   "name": "python3"
  },
  "language_info": {
   "codemirror_mode": {
    "name": "ipython",
    "version": 3
   },
   "file_extension": ".py",
   "mimetype": "text/x-python",
   "name": "python",
   "nbconvert_exporter": "python",
   "pygments_lexer": "ipython3",
   "version": "3.12.7"
  }
 },
 "nbformat": 4,
 "nbformat_minor": 5
}
