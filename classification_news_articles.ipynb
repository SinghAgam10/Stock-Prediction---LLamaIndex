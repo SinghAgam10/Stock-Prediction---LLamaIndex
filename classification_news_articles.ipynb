{
 "cells": [
  {
   "cell_type": "code",
   "execution_count": 2,
   "id": "a3639251-9ec8-47b8-ba3c-aff66e508379",
   "metadata": {},
   "outputs": [],
   "source": [
    "import pandas as pd\n",
    "import asyncio\n",
    "import aiohttp\n",
    "import requests\n",
    "import pandas as pd\n",
    "from bs4 import BeautifulSoup\n",
    "import time\n",
    "import sys\n",
    "from selenium import webdriver\n",
    "from selenium.webdriver.chrome.options import Options\n",
    "from tqdm.auto import tqdm\n",
    "import random\n",
    "import json"
   ]
  },
  {
   "cell_type": "code",
   "execution_count": 97,
   "id": "8366502b-d90c-41ed-b4a0-315b0b09f883",
   "metadata": {},
   "outputs": [],
   "source": [
    "API_KEY = \"sk-live-a5OIPGO3CpO5onxTLyLRJihpvUOW0bqmBOHEFrvF\"\n",
    "USER_AGENT = \"Mozilla/5.0 (Macintosh; Intel Mac OS X 10_15_7) AppleWebKit/537.36 (KHTML, like Gecko) Chrome/130.0.0.0 Safari/537.36\""
   ]
  },
  {
   "cell_type": "code",
   "execution_count": 98,
   "id": "fe5a41d1-f8c0-4999-9c53-6b1a714ee584",
   "metadata": {},
   "outputs": [],
   "source": [
    "def get_all_news(i):\n",
    "    headers = {\n",
    "        \"User-Agent\": USER_AGENT,\n",
    "        \"Accept-Language\": \"en-US,en;q=0.9\",\n",
    "        \"Accept-Encoding\": \"gzip, deflate\",\n",
    "        \"Connection\": \"keep-alive\",\n",
    "    }\n",
    "    url = f\"https://timesofindia.indiatimes.com/archivelist/starttime-{i}.cms\"\n",
    "    chrome_options = Options()\n",
    "    chrome_options.add_argument(\"--headless\")\n",
    "    driver = webdriver.Chrome(options=chrome_options)\n",
    "    driver.get(url)\n",
    "\n",
    "    time.sleep(random.randint(5, 10))\n",
    "\n",
    "    content = driver.page_source\n",
    "    driver.quit()\n",
    "    \n",
    "    soup = BeautifulSoup(content, 'html.parser')\n",
    "    soup = soup.find_all('td')\n",
    "    soup = soup[4:6]\n",
    "    link_headlines_tuples = []\n",
    "    for td in soup:\n",
    "        a_tags = td.find_all('a')\n",
    "        for a in a_tags:\n",
    "            link = \"\"\n",
    "            if \"https\" in a['href'] or \"http\" in a['href']:\n",
    "                link = a['href']\n",
    "            else:\n",
    "                link = f\"https://timesofindia.indiatimes.com{a['href']}\"\n",
    "            headline = a.text\n",
    "            link_headlines_tuples.append((link, headline))\n",
    "    return link_headlines_tuples"
   ]
  },
  {
   "cell_type": "code",
   "execution_count": 99,
   "id": "cc9a4b07-2049-40e8-ab9f-a2ddf9efd1ef",
   "metadata": {},
   "outputs": [],
   "source": [
    "def fetch_tags(link):\n",
    "    splits = link.split(\"/\")\n",
    "    tags = splits[3:-3]\n",
    "    return tags, splits[-1].replace(\".cms\", \"\")"
   ]
  },
  {
   "cell_type": "code",
   "execution_count": 100,
   "id": "538af1bb-07a4-4516-96a1-ecba9bb16f82",
   "metadata": {},
   "outputs": [],
   "source": [
    "def fetch(url, headline, df=None):\n",
    "    headers = {\n",
    "        \"User-Agent\": USER_AGENT,\n",
    "        \"Accept-Language\": \"en-US,en;q=0.9\",\n",
    "        \"Accept-Encoding\": \"gzip, deflate\",\n",
    "        \"Connection\": \"keep-alive\",\n",
    "    }\n",
    "    try:\n",
    "        chrome_options = Options()\n",
    "        chrome_options.add_argument(\"--headless\")\n",
    "        driver = webdriver.Chrome(options=chrome_options)\n",
    "        driver.get(url)\n",
    "    \n",
    "        time.sleep(random.randint(15, 20))\n",
    "    \n",
    "        content = driver.page_source\n",
    "        driver.quit()\n",
    "        soup = BeautifulSoup(content, 'html.parser')\n",
    "        div_content = soup.find('div', class_='_s30J clearfix')\n",
    "        date_time = soup.find('div', class_=\"xf8Pm byline\").text\n",
    "        date_time = date_time.split('/')[2]\n",
    "\n",
    "        if div_content:\n",
    "            content = div_content\n",
    "            content = content.text\n",
    "            tags, article_number = fetch_tags(url)\n",
    "            try:\n",
    "                # add_news_article_to_dynamodb(url, headline, content, tags, article_number, date)\n",
    "                if df is not None:\n",
    "                    df.loc[len(df)] = [headline, url, content, date_time, tags, article_number]\n",
    "                return True\n",
    "            except Exception as e:\n",
    "                print(f\"Unable to add data to Dynamo DB for date: {date} with error: {e}\")\n",
    "                sys.exit(1)\n",
    "        else:\n",
    "            print(\"Div with the specified class not found.\")\n",
    "            \n",
    "    except Exception as e:\n",
    "        print(f\"An error occurred for {url}: {e}\")\n",
    "        return None"
   ]
  },
  {
   "cell_type": "code",
   "execution_count": 101,
   "id": "916431be-8028-483b-8127-3c59492e8ba0",
   "metadata": {},
   "outputs": [],
   "source": [
    "def fetch_all(link_headlines_tuples, df=None):\n",
    "    for (link, headline) in tqdm(link_headlines_tuples):\n",
    "        fetch(link, headline, df)"
   ]
  },
  {
   "cell_type": "code",
   "execution_count": 94,
   "id": "e9734cb7-7b2a-43d6-bbb2-54fe0e1d2cc3",
   "metadata": {},
   "outputs": [],
   "source": [
    "def scrap_news(page_suffix, df=None):\n",
    "    \n",
    "    # update pagesuffix-1, currently it just fetches for one day\n",
    "    for i in range(page_suffix, page_suffix-1, -1):\n",
    "        start_time  = time.time()\n",
    "        print(f\"Starting scraping with suffix: {i}\")\n",
    "        try:\n",
    "            link_headlines_tuples = get_all_news(i)\n",
    "        except Exception as e:\n",
    "            print(f\"Exception caught while calling get_all_news with error: {e}\")\n",
    "            \n",
    "        fetch_all(link_headlines_tuples, df)\n",
    "\n",
    "        \n",
    "        print(\"Done for date\")\n",
    "        end_time = time.time()\n",
    "        elapsed_time = end_time - start_time\n",
    "        print(f\"Time taken to run the function: {elapsed_time:.4f} seconds\")\n",
    "        print(\"\\n\\n\")"
   ]
  },
  {
   "cell_type": "code",
   "execution_count": null,
   "id": "b66c6d66-50d3-473e-b85e-eb024a6f54c4",
   "metadata": {},
   "outputs": [],
   "source": [
    "# news_articles_for_day = pd.DataFrame(columns=[\"headline\", \"url\", \"content\", \"date_time\", \"tags\", \"article_number\"])\n",
    "# scrap_news(45594, news_articles_for_day)\n",
    "# news_articles_for_day.to_csv(\"./fetched-data/news_articles_for_today.csv\", index=False)"
   ]
  },
  {
   "cell_type": "code",
   "execution_count": 3,
   "id": "67e064e1-4376-4ffc-ac99-0aad8436e61c",
   "metadata": {},
   "outputs": [],
   "source": [
    "news_articles_for_day = pd.read_csv(\"./fetched-data/news_articles_for_today.csv\")"
   ]
  },
  {
   "cell_type": "code",
   "execution_count": 37,
   "id": "a752ac5c-b266-499d-8fc9-210ae0d3d2e0",
   "metadata": {},
   "outputs": [],
   "source": [
    "all_news = news_articles_for_day.content.values"
   ]
  },
  {
   "cell_type": "code",
   "execution_count": 175,
   "id": "d727c6d4-1b89-4dd6-ab11-b30227e480c9",
   "metadata": {},
   "outputs": [],
   "source": [
    "from langchain.prompts import PromptTemplate\n",
    "from langchain_core.output_parsers import StrOutputParser\n",
    "\n",
    "prompt = PromptTemplate(\n",
    "    template=\"\"\"You will be provided with news and a comma separated list of different sectors in which Indian stock market can be divided. \\\n",
    "You need to go through the news and identify the sectors that the news can impact. Only include the sectors that are directly influenced \\\n",
    "by the news. If there is a neutral impact by the news dont include that in the response. Only include the sector in the output if there \\\n",
    "is a strong correlation between the sector and the news. Do not try to invent any new sector and choose the sector only from the comma \\\n",
    "separated list that I will provide. If there are no sectors that are impacted, dont return anything. For each sector that the news can \\\n",
    "impact, tell whether the impact would be postive or negative. Also give a brief summary behind your reasoning. \n",
    "\n",
    "Only return a list of json with the following keys: sector_name, impact and reasoning.\n",
    "\n",
    "I'm adding an example for your reference:\n",
    "\n",
    "[\n",
    "{{\n",
    "    \"sector_name\": \"ABC\",\n",
    "    \"impact\": \"ABC\",\n",
    "    \"reasoning: \"ABC\"\n",
    "}}\n",
    "]\n",
    "\n",
    "\n",
    "News article: {news}\n",
    "Sectors: {sectors}\n",
    "\"\"\",\n",
    "    input_variables=[\"news\", \"sectors\"],\n",
    ")"
   ]
  },
  {
   "cell_type": "code",
   "execution_count": 176,
   "id": "0ac89a04-300c-4526-8cbc-d567c8128802",
   "metadata": {},
   "outputs": [
    {
     "data": {
      "text/plain": [
       "PromptTemplate(input_variables=['news', 'sectors'], input_types={}, partial_variables={}, template='You will be provided with news and a comma separated list of different sectors in which Indian stock market can be divided. You need to go through the news and identify the sectors that the news can impact. Only include the sectors that are directly influenced by the news. If there is a neutral impact by the news dont include that in the response. Only include the sector in the output if there is a strong correlation between the sector and the news. Do not try to invent any new sector and choose the sector only from the comma separated list that I will provide. If there are no sectors that are impacted, dont return anything. For each sector that the news can impact, tell whether the impact would be postive or negative. Also give a brief summary behind your reasoning. \\n\\nOnly return a list of json with the following keys: sector_name, impact and reasoning.\\n\\nI\\'m adding an example for your reference:\\n\\n[\\n{{\\n    \"sector_name\": \"ABC\",\\n    \"impact\": \"ABC\",\\n    \"reasoning: \"ABC\"\\n}}\\n]\\n\\n\\nNews article: {news}\\nSectors: {sectors}\\n')"
      ]
     },
     "execution_count": 176,
     "metadata": {},
     "output_type": "execute_result"
    }
   ],
   "source": [
    "prompt"
   ]
  },
  {
   "cell_type": "code",
   "execution_count": 177,
   "id": "257d324a-3230-4849-b2d6-0cf56eddfded",
   "metadata": {},
   "outputs": [],
   "source": [
    "from langchain_ollama import OllamaLLM\n",
    "from langchain.chains import LLMChain"
   ]
  },
  {
   "cell_type": "code",
   "execution_count": 178,
   "id": "4ed26b0a-43a9-4990-9d16-01311893fb3f",
   "metadata": {},
   "outputs": [],
   "source": [
    "ollama = OllamaLLM(model=\"llama3.1:latest\")\n",
    "llm_chain = prompt | ollama"
   ]
  },
  {
   "cell_type": "code",
   "execution_count": 179,
   "id": "3dce5f41-27dc-4768-ad62-c21f90771b27",
   "metadata": {},
   "outputs": [],
   "source": [
    "output = llm_chain.invoke({\"news\": news, \"sectors\": all_sectors })"
   ]
  },
  {
   "cell_type": "code",
   "execution_count": 181,
   "id": "4dcedcf6-a0a3-4a76-902d-541af86006a5",
   "metadata": {},
   "outputs": [
    {
     "name": "stdout",
     "output_type": "stream",
     "text": [
      "Based on the news article and the sectors provided, here is the list of impacted sectors with their respective impact and reasoning:\n",
      "\n",
      "[\n",
      "  {\n",
      "    \"sector_name\": \"finance_stock_broking\",\n",
      "    \"impact\": \"Negative\",\n",
      "    \"reasoning\": \"The news about opposition unity in Maharashtra polls may lead to market volatility and uncertainty, which could negatively impact stock prices and trading activities.\"\n",
      "  },\n",
      "  {\n",
      "    \"sector_name\": \"bank_private\",\n",
      "    \"impact\": \"Negative\",\n",
      "    \"reasoning\": \"As the news suggests a united opposition, it may lead to economic instability and potentially negative impacts on private banks, especially if the BJP-led government is not returned to power.\"\n",
      "  },\n",
      "  {\n",
      "    \"sector_name\": \"finance_asset_management\",\n",
      "    \"impact\": \"Negative\",\n",
      "    \"reasoning\": \"The potential change in government may lead to a reevaluation of investment strategies, which could negatively impact asset management companies and their clients.\"\n",
      "  }\n",
      "]\n",
      "\n",
      "Note that these are the only sectors directly impacted by the news article.\n"
     ]
    }
   ],
   "source": [
    "print(output)"
   ]
  },
  {
   "cell_type": "code",
   "execution_count": 41,
   "id": "6e452a76-bacb-4103-8937-f19438d0c1cc",
   "metadata": {},
   "outputs": [
    {
     "data": {
      "text/html": [
       "<div>\n",
       "<style scoped>\n",
       "    .dataframe tbody tr th:only-of-type {\n",
       "        vertical-align: middle;\n",
       "    }\n",
       "\n",
       "    .dataframe tbody tr th {\n",
       "        vertical-align: top;\n",
       "    }\n",
       "\n",
       "    .dataframe thead th {\n",
       "        text-align: right;\n",
       "    }\n",
       "</style>\n",
       "<table border=\"1\" class=\"dataframe\">\n",
       "  <thead>\n",
       "    <tr style=\"text-align: right;\">\n",
       "      <th></th>\n",
       "      <th>headline</th>\n",
       "      <th>url</th>\n",
       "      <th>content</th>\n",
       "      <th>date_time</th>\n",
       "      <th>tags</th>\n",
       "      <th>article_number</th>\n",
       "    </tr>\n",
       "  </thead>\n",
       "  <tbody>\n",
       "    <tr>\n",
       "      <th>93</th>\n",
       "      <td>Every film I am part of helps me grow as an ar...</td>\n",
       "      <td>https://timesofindia.indiatimes.com/entertainm...</td>\n",
       "      <td>Rukmini Vasanth Actor Rukmini Vasanth is shar...</td>\n",
       "      <td>Oct 29, 2024, 00:00 IST</td>\n",
       "      <td>['entertainment', 'kannada', 'movies', 'news']</td>\n",
       "      <td>114687715</td>\n",
       "    </tr>\n",
       "    <tr>\n",
       "      <th>250</th>\n",
       "      <td>Suriya says he moved to Mumbai to acknowledge ...</td>\n",
       "      <td>https://timesofindia.indiatimes.com/entertainm...</td>\n",
       "      <td>Kollywood’s most celebrated couple, Suriya a...</td>\n",
       "      <td>Updated: Oct 31, 2024, 06:53 IST</td>\n",
       "      <td>['entertainment', 'tamil', 'movies', 'news']</td>\n",
       "      <td>114705074</td>\n",
       "    </tr>\n",
       "    <tr>\n",
       "      <th>297</th>\n",
       "      <td>Did you know Prabhas rejected THIS role in Dee...</td>\n",
       "      <td>https://timesofindia.indiatimes.com/entertainm...</td>\n",
       "      <td>Rebel star Prabhas, known for his pan-Indian...</td>\n",
       "      <td>Updated: Oct 29, 2024, 01:27 IST</td>\n",
       "      <td>['entertainment', 'telugu', 'movies', 'news']</td>\n",
       "      <td>114705165</td>\n",
       "    </tr>\n",
       "  </tbody>\n",
       "</table>\n",
       "</div>"
      ],
      "text/plain": [
       "                                              headline  \\\n",
       "93   Every film I am part of helps me grow as an ar...   \n",
       "250  Suriya says he moved to Mumbai to acknowledge ...   \n",
       "297  Did you know Prabhas rejected THIS role in Dee...   \n",
       "\n",
       "                                                   url  \\\n",
       "93   https://timesofindia.indiatimes.com/entertainm...   \n",
       "250  https://timesofindia.indiatimes.com/entertainm...   \n",
       "297  https://timesofindia.indiatimes.com/entertainm...   \n",
       "\n",
       "                                               content  \\\n",
       "93    Rukmini Vasanth Actor Rukmini Vasanth is shar...   \n",
       "250    Kollywood’s most celebrated couple, Suriya a...   \n",
       "297    Rebel star Prabhas, known for his pan-Indian...   \n",
       "\n",
       "                             date_time  \\\n",
       "93             Oct 29, 2024, 00:00 IST   \n",
       "250   Updated: Oct 31, 2024, 06:53 IST   \n",
       "297   Updated: Oct 29, 2024, 01:27 IST   \n",
       "\n",
       "                                               tags  article_number  \n",
       "93   ['entertainment', 'kannada', 'movies', 'news']       114687715  \n",
       "250    ['entertainment', 'tamil', 'movies', 'news']       114705074  \n",
       "297   ['entertainment', 'telugu', 'movies', 'news']       114705165  "
      ]
     },
     "execution_count": 41,
     "metadata": {},
     "output_type": "execute_result"
    }
   ],
   "source": [
    "news_articles_for_day[news_articles_for_day['tags'].str.contains(r'\\bmovies\\b', case=False, na=False)]"
   ]
  },
  {
   "cell_type": "code",
   "execution_count": 42,
   "id": "778ee81d-e354-4925-b7b2-480529a780d4",
   "metadata": {},
   "outputs": [],
   "source": [
    "news1 = news_articles_for_day.iloc[93].content"
   ]
  },
  {
   "cell_type": "code",
   "execution_count": 188,
   "id": "f1dffcca-e426-4eb4-9428-4292fca9abf5",
   "metadata": {},
   "outputs": [
    {
     "name": "stdout",
     "output_type": "stream",
     "text": [
      "Here is the output for the given news article:\n",
      "\n",
      "[\n",
      "  {\n",
      "    \"sector_name\": \"FMCG\",\n",
      "    \"impact\": \"Negative\",\n",
      "    \"reasoning\": \"The finance ministry's monthly economic review for Sept said that sluggish urban sales due to stubborn food inflation, while rural demand appeared to be improving.\"\n",
      "  },\n",
      "  {\n",
      "    \"sector_name\": \"Auto\",\n",
      "    \"impact\": \"Negative\",\n",
      "    \"reasoning\": \"The report cited slowing auto sales in urban centres.\"\n",
      "  },\n",
      "  {\n",
      "    \"sector_name\": \"Housing\",\n",
      "    \"impact\": \"Negative\",\n",
      "    \"reasoning\": \"The report cited slowing housing sales in urban centres.\"\n",
      "  },\n",
      "  {\n",
      "    \"sector_name\": \"Industrial Gases and Fuels\",\n",
      "    \"impact\": \"Negative\",\n",
      "    \"reasoning\": \"The country's industrial output contracted for first time in 22 months in Aug, dragged down by a high base effect and decline in mining and electricity and a weak manufacturing sector.\"\n",
      "  }\n",
      "]\n",
      "\n",
      "Note: I considered only the sectors that have a direct impact on the news article. For example, FMCG (Fast Moving Consumer Goods) is affected due to the mention of sluggish urban sales due to stubborn food inflation, auto sector is impacted due to slowing auto sales in urban centres, housing sector is impacted due to slowing housing sales in urban centres, and industrial gases and fuels are impacted due to the contraction in industrial output.\n"
     ]
    }
   ],
   "source": [
    "output = llm_chain.invoke({\"news\": news1, \"sectors\": all_sectors })\n",
    "print(output)"
   ]
  },
  {
   "cell_type": "code",
   "execution_count": 5,
   "id": "8af6b1d7-9e2b-400e-aced-1a6eceac768a",
   "metadata": {},
   "outputs": [],
   "source": [
    "from pydantic import BaseModel\n",
    "from typing import List"
   ]
  },
  {
   "cell_type": "code",
   "execution_count": 43,
   "id": "b504e994-eca1-46b9-8008-2ca342c932fd",
   "metadata": {},
   "outputs": [],
   "source": [
    "class SectorImpacted(BaseModel):\n",
    "    sector_name: str\n",
    "    sentiment: str\n",
    "    reasoning: str\n",
    "\n",
    "class ListOfImpactedSector(BaseModel):\n",
    "    list_of_sector: List[SectorImpacted]"
   ]
  },
  {
   "cell_type": "code",
   "execution_count": 44,
   "id": "26d96f84-c9e5-4d5e-89aa-af400dae1945",
   "metadata": {},
   "outputs": [],
   "source": [
    "from llama_index.llms.ollama import Ollama\n",
    "from llama_index.core.program import LLMTextCompletionProgram"
   ]
  },
  {
   "cell_type": "code",
   "execution_count": 45,
   "id": "ee2a65ed-b20d-4ac4-9229-e039c4123d7d",
   "metadata": {},
   "outputs": [],
   "source": [
    "llm = Ollama(model=\"llama3.1:latest\", request_timeout=600)"
   ]
  },
  {
   "cell_type": "code",
   "execution_count": 46,
   "id": "a1226b74-8a10-42e9-8cac-9dc1fef69b1f",
   "metadata": {},
   "outputs": [],
   "source": [
    "prompt_template_str = \"\"\"You will be provided with news and a comma separated list of different sectors in which Indian stock market can be divided. \\\n",
    "You need to go through the news and identify the sectors that the news can impact. Only include the sectors that are directly influenced \\\n",
    "by the news. If there is a neutral impact by the news dont include that in the response. Only include the sector in the output if there \\\n",
    "is a strong correlation between the sector and the news. Do not try to invent any new sector and choose the sector only from the comma \\\n",
    "separated list that I will provide. If there are no sectors that are impacted, dont return anything. For each sector that the news can \\\n",
    "impact, tell whether the impact would be postive or negative. Also give a brief summary behind your reasoning. \n",
    "\n",
    "News article: {news}\n",
    "Sectors: {sectors}\n",
    "\n",
    "Provide the results in list of JSON format, matching the structure of the ListOfImpactedSector model:\n",
    "- sector_name: the name of the sector impacted\n",
    "- sentiment: the sentiment towards that sector\n",
    "- reasoning: the reasoning behind the sentiment towards the sector\n",
    "\n",
    "\n",
    "\"\"\""
   ]
  },
  {
   "cell_type": "code",
   "execution_count": 47,
   "id": "2cb46c8c-ddc3-4f01-a91c-d059b3a56172",
   "metadata": {},
   "outputs": [],
   "source": [
    "program = LLMTextCompletionProgram.from_defaults(\n",
    "    llm=llm,\n",
    "    output_cls=ListOfImpactedSector,\n",
    "    prompt_template_str=prompt_template_str,\n",
    "    verbose=True,\n",
    ")"
   ]
  },
  {
   "cell_type": "code",
   "execution_count": 48,
   "id": "38173a23-a189-4483-bc23-7b2e191262b8",
   "metadata": {},
   "outputs": [],
   "source": [
    "output = program(news = news1, sectors = all_sectors)"
   ]
  },
  {
   "cell_type": "code",
   "execution_count": 49,
   "id": "95a2c607-01ea-40ce-9ddd-b96dcd2bbfc5",
   "metadata": {},
   "outputs": [
    {
     "data": {
      "text/plain": [
       "'{\"list_of_sector\":[{\"sector_name\":\"film_production_distribution_entertainment\",\"sentiment\":\"positive\",\"reasoning\":\"The news article is about an actress, Rukmini Vasanth, sharing her experiences and excitement about working in the film industry. This indicates a positive sentiment towards the sector.\"}]}'"
      ]
     },
     "execution_count": 49,
     "metadata": {},
     "output_type": "execute_result"
    }
   ],
   "source": [
    "output.json()"
   ]
  },
  {
   "cell_type": "code",
   "execution_count": 50,
   "id": "d840c083-97f0-408a-afda-9a1b0db41c2e",
   "metadata": {},
   "outputs": [
    {
     "data": {
      "text/plain": [
       "{'list_of_sector': [{'sector_name': 'film_production_distribution_entertainment',\n",
       "   'sentiment': 'positive',\n",
       "   'reasoning': 'The news article is about an actress, Rukmini Vasanth, sharing her experiences and excitement about working in the film industry. This indicates a positive sentiment towards the sector.'}]}"
      ]
     },
     "execution_count": 50,
     "metadata": {},
     "output_type": "execute_result"
    }
   ],
   "source": [
    "json.loads(output.json())"
   ]
  },
  {
   "cell_type": "code",
   "execution_count": 13,
   "id": "0f04a6b0-2f0b-4a68-acba-e5d18a3d7153",
   "metadata": {},
   "outputs": [],
   "source": [
    "all_sectors = sectors.sector.values\n",
    "all_sectors = \", \".join(list(all_sectors))"
   ]
  },
  {
   "cell_type": "code",
   "execution_count": 13,
   "id": "f6a1666e-32f7-4f0d-ba5b-6fa96a2f8a44",
   "metadata": {},
   "outputs": [
    {
     "data": {
      "text/plain": [
       "'TOI Entertainment Desk / etimes.in /  Oct 29, 2024, 01:19 IST'"
      ]
     },
     "execution_count": 13,
     "metadata": {},
     "output_type": "execute_result"
    }
   ],
   "source": [
    "url = \"https://timesofindia.indiatimes.com/entertainment/hindi/bollywood/news/abhishek-kapoor-celebrates-diwali-with-rasha-thadani-and-aaman-devgn-ahead-of-their-untitled-debut-film/articleshow/114705104.cms\"\n",
    "response = requests.get(url)\n",
    "response.encoding = 'utf-8'\n",
    "content = response.text\n",
    "\n",
    "soup = BeautifulSoup(content, 'html.parser')\n",
    "span = soup.find_all('div', class_=\"xf8Pm byline\")\n",
    "span[0].text"
   ]
  },
  {
   "cell_type": "code",
   "execution_count": 12,
   "id": "0d3759d3-9506-4131-b224-2a1ab4eb6c11",
   "metadata": {},
   "outputs": [],
   "source": [
    "sectors = pd.read_csv(\"./fetched-data/stock-sectors.csv\")"
   ]
  },
  {
   "cell_type": "code",
   "execution_count": 3,
   "id": "54e868f7-741d-4f44-8071-9b815229301a",
   "metadata": {},
   "outputs": [
    {
     "data": {
      "text/html": [
       "<div>\n",
       "<style scoped>\n",
       "    .dataframe tbody tr th:only-of-type {\n",
       "        vertical-align: middle;\n",
       "    }\n",
       "\n",
       "    .dataframe tbody tr th {\n",
       "        vertical-align: top;\n",
       "    }\n",
       "\n",
       "    .dataframe thead th {\n",
       "        text-align: right;\n",
       "    }\n",
       "</style>\n",
       "<table border=\"1\" class=\"dataframe\">\n",
       "  <thead>\n",
       "    <tr style=\"text-align: right;\">\n",
       "      <th></th>\n",
       "      <th>sector</th>\n",
       "      <th>description</th>\n",
       "      <th>total_companies</th>\n",
       "      <th>link</th>\n",
       "    </tr>\n",
       "  </thead>\n",
       "  <tbody>\n",
       "    <tr>\n",
       "      <th>0</th>\n",
       "      <td>abrasives</td>\n",
       "      <td>The one that scraps away all inconsistencies</td>\n",
       "      <td>3</td>\n",
       "      <td>/abrasives</td>\n",
       "    </tr>\n",
       "    <tr>\n",
       "      <th>1</th>\n",
       "      <td>advertising_media</td>\n",
       "      <td>The one that creates and distributes media con...</td>\n",
       "      <td>11</td>\n",
       "      <td>/advertising-media</td>\n",
       "    </tr>\n",
       "    <tr>\n",
       "      <th>2</th>\n",
       "      <td>agriculture</td>\n",
       "      <td>The one that gives us vegetables and fruits to...</td>\n",
       "      <td>49</td>\n",
       "      <td>/agriculture</td>\n",
       "    </tr>\n",
       "    <tr>\n",
       "      <th>3</th>\n",
       "      <td>air_conditioners</td>\n",
       "      <td>The one thats keeps it cool with no noise</td>\n",
       "      <td>6</td>\n",
       "      <td>/air-conditioners</td>\n",
       "    </tr>\n",
       "    <tr>\n",
       "      <th>4</th>\n",
       "      <td>airlines</td>\n",
       "      <td>The one that takes us around the world in the ...</td>\n",
       "      <td>6</td>\n",
       "      <td>/airlines</td>\n",
       "    </tr>\n",
       "    <tr>\n",
       "      <th>...</th>\n",
       "      <td>...</td>\n",
       "      <td>...</td>\n",
       "      <td>...</td>\n",
       "      <td>...</td>\n",
       "    </tr>\n",
       "    <tr>\n",
       "      <th>129</th>\n",
       "      <td>travel_services</td>\n",
       "      <td>The one that takes you to your favourite holidays</td>\n",
       "      <td>17</td>\n",
       "      <td>/travel-services</td>\n",
       "    </tr>\n",
       "    <tr>\n",
       "      <th>130</th>\n",
       "      <td>tv_broadcasting_software_production</td>\n",
       "      <td>The one that brings you your favourite TV shows</td>\n",
       "      <td>32</td>\n",
       "      <td>/tv-broadcasting-software-production</td>\n",
       "    </tr>\n",
       "    <tr>\n",
       "      <th>131</th>\n",
       "      <td>tyres_allied</td>\n",
       "      <td>The one that makes vehicles move</td>\n",
       "      <td>12</td>\n",
       "      <td>/tyres-allied</td>\n",
       "    </tr>\n",
       "    <tr>\n",
       "      <th>132</th>\n",
       "      <td>watches_accessories</td>\n",
       "      <td>The one that makes your life more functional</td>\n",
       "      <td>2</td>\n",
       "      <td>/watches-accessories</td>\n",
       "    </tr>\n",
       "    <tr>\n",
       "      <th>133</th>\n",
       "      <td>wood_wood_products</td>\n",
       "      <td>The one that is used in making furniture majorly</td>\n",
       "      <td>15</td>\n",
       "      <td>/wood-wood-products</td>\n",
       "    </tr>\n",
       "  </tbody>\n",
       "</table>\n",
       "<p>134 rows × 4 columns</p>\n",
       "</div>"
      ],
      "text/plain": [
       "                                  sector  \\\n",
       "0                              abrasives   \n",
       "1                      advertising_media   \n",
       "2                            agriculture   \n",
       "3                       air_conditioners   \n",
       "4                               airlines   \n",
       "..                                   ...   \n",
       "129                      travel_services   \n",
       "130  tv_broadcasting_software_production   \n",
       "131                         tyres_allied   \n",
       "132                  watches_accessories   \n",
       "133                   wood_wood_products   \n",
       "\n",
       "                                           description  total_companies  \\\n",
       "0         The one that scraps away all inconsistencies                3   \n",
       "1    The one that creates and distributes media con...               11   \n",
       "2    The one that gives us vegetables and fruits to...               49   \n",
       "3            The one thats keeps it cool with no noise                6   \n",
       "4    The one that takes us around the world in the ...                6   \n",
       "..                                                 ...              ...   \n",
       "129  The one that takes you to your favourite holidays               17   \n",
       "130    The one that brings you your favourite TV shows               32   \n",
       "131                   The one that makes vehicles move               12   \n",
       "132       The one that makes your life more functional                2   \n",
       "133   The one that is used in making furniture majorly               15   \n",
       "\n",
       "                                     link  \n",
       "0                              /abrasives  \n",
       "1                      /advertising-media  \n",
       "2                            /agriculture  \n",
       "3                       /air-conditioners  \n",
       "4                               /airlines  \n",
       "..                                    ...  \n",
       "129                      /travel-services  \n",
       "130  /tv-broadcasting-software-production  \n",
       "131                         /tyres-allied  \n",
       "132                  /watches-accessories  \n",
       "133                   /wood-wood-products  \n",
       "\n",
       "[134 rows x 4 columns]"
      ]
     },
     "execution_count": 3,
     "metadata": {},
     "output_type": "execute_result"
    }
   ],
   "source": [
    "sectors"
   ]
  },
  {
   "cell_type": "code",
   "execution_count": null,
   "id": "419447bf-3c8d-4ef7-aa68-cd95287b5078",
   "metadata": {},
   "outputs": [],
   "source": [
    "from langchain_community import"
   ]
  }
 ],
 "metadata": {
  "kernelspec": {
   "display_name": "Python 3 (ipykernel)",
   "language": "python",
   "name": "python3"
  },
  "language_info": {
   "codemirror_mode": {
    "name": "ipython",
    "version": 3
   },
   "file_extension": ".py",
   "mimetype": "text/x-python",
   "name": "python",
   "nbconvert_exporter": "python",
   "pygments_lexer": "ipython3",
   "version": "3.12.7"
  }
 },
 "nbformat": 4,
 "nbformat_minor": 5
}
